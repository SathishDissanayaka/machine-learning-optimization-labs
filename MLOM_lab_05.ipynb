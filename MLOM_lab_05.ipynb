{
  "nbformat": 4,
  "nbformat_minor": 0,
  "metadata": {
    "colab": {
      "provenance": [],
      "mount_file_id": "10FEa09f1XXQ31-f4kQGRA_MlxPlr80tP",
      "authorship_tag": "ABX9TyODqluAXhF5bcECAf4Y/k0p",
      "include_colab_link": true
    },
    "kernelspec": {
      "name": "python3",
      "display_name": "Python 3"
    },
    "language_info": {
      "name": "python"
    }
  },
  "cells": [
    {
      "cell_type": "markdown",
      "metadata": {
        "id": "view-in-github",
        "colab_type": "text"
      },
      "source": [
        "<a href=\"https://colab.research.google.com/github/SathishDissanayaka/machine-learning-optimization-labs/blob/main/MLOM_lab05.ipynb\" target=\"_parent\"><img src=\"https://colab.research.google.com/assets/colab-badge.svg\" alt=\"Open In Colab\"/></a>"
      ]
    },
    {
      "cell_type": "code",
      "execution_count": 11,
      "metadata": {
        "id": "bJKdT6rXnObB"
      },
      "outputs": [],
      "source": [
        "#Import the libraries\n",
        "import numpy as np\n",
        "import pandas as pd\n",
        "from sklearn.model_selection import train_test_split\n",
        "from sklearn.preprocessing import StandardScaler\n",
        "from sklearn.metrics import mean_squared_error\n",
        "import tensorflow as tf\n",
        "from tensorflow import keras"
      ]
    },
    {
      "cell_type": "code",
      "source": [
        "#Import data\n",
        "data=pd.read_csv(\"diabetes.csv\")\n",
        "x=data.iloc[:,:8].values\n",
        "y=data.iloc[:,8].values"
      ],
      "metadata": {
        "id": "ajV0QSZDpAxc"
      },
      "execution_count": 16,
      "outputs": []
    },
    {
      "cell_type": "code",
      "source": [
        "#training and testing data\n",
        "x_train,x_test,y_train,y_test = train_test_split(\n",
        "    x,y,test_size=0.2,random_state=42,stratify=y)"
      ],
      "metadata": {
        "id": "LbfFyhIdqeLe"
      },
      "execution_count": 17,
      "outputs": []
    },
    {
      "cell_type": "code",
      "source": [
        "#Standardizing\n",
        "scaler=StandardScaler()\n",
        "x_train=scaler.fit_transform(x_train)\n",
        "x_test=scaler.transform(x_test)"
      ],
      "metadata": {
        "id": "MWVBDCosrHXC"
      },
      "execution_count": 18,
      "outputs": []
    },
    {
      "cell_type": "code",
      "source": [
        "#Set seeds to improve reproducibility.\n",
        "np.random.seed(0)          # NumPy randomness\n",
        "tf.random.set_seed(0)      # TensorFlow/Keras randomness"
      ],
      "metadata": {
        "id": "34x-EBvY9FXs"
      },
      "execution_count": 31,
      "outputs": []
    },
    {
      "cell_type": "code",
      "source": [
        "# Model architecture with Dropout and Batch normalization\n",
        "model = keras.Sequential([\n",
        "    keras.layers.Input(shape=(8,)),             # Input layer: 8 features\n",
        "    keras.layers.Dense(5, activation='relu',kernel_regularizer=keras.regularizers.l2(0.01)),   # Hidden layer 1 with weight decay\n",
        "    keras.layers.BatchNormalization(),          # Batch normalization\n",
        "    keras.layers.Dropout(0.3),                  # Dropout: randomly drop 30% neurons(reduce overfitting)\n",
        "    keras.layers.Dense(3, activation='relu',kernel_regularizer=keras.regularizers.l2(0.01)),   # Hidden layer 2 with weight decay\n",
        "    keras.layers.BatchNormalization(),          # Batch normalization\n",
        "    keras.layers.Dropout(0.2),                  # Dropout: randomly drop 20% neurons(reduce overfitting)\n",
        "    keras.layers.Dense(1, activation='sigmoid') # Output layer (binary classification)\n",
        "])\n"
      ],
      "metadata": {
        "id": "s3Zex-Cira6M"
      },
      "execution_count": 34,
      "outputs": []
    },
    {
      "cell_type": "code",
      "source": [
        "#compiling the model\n",
        "model.compile(optimizer='adam', loss='binary_crossentropy', metrics=['accuracy'])"
      ],
      "metadata": {
        "id": "g8t0GU3w4wt5"
      },
      "execution_count": 23,
      "outputs": []
    },
    {
      "cell_type": "code",
      "source": [
        "#early stop\n",
        "early_stop = keras.callbacks.EarlyStopping(\n",
        "    monitor='val_loss', patience=10, restore_best_weights=True\n",
        ")"
      ],
      "metadata": {
        "id": "jfBAtRWI7PdI"
      },
      "execution_count": 25,
      "outputs": []
    },
    {
      "cell_type": "code",
      "source": [
        "#Training\n",
        "history = model.fit(\n",
        "    x_train, y_train,\n",
        "    epochs=100,\n",
        "    batch_size=32,\n",
        "    validation_split=0.2,\n",
        "    verbose=1,\n",
        "    callbacks=[early_stop]\n",
        ")"
      ],
      "metadata": {
        "colab": {
          "base_uri": "https://localhost:8080/"
        },
        "id": "NeWlxUV352Ap",
        "outputId": "c727850f-b96f-4824-9738-3aad8eef29fd"
      },
      "execution_count": 27,
      "outputs": [
        {
          "output_type": "stream",
          "name": "stdout",
          "text": [
            "Epoch 1/100\n",
            "\u001b[1m16/16\u001b[0m \u001b[32m━━━━━━━━━━━━━━━━━━━━\u001b[0m\u001b[37m\u001b[0m \u001b[1m0s\u001b[0m 10ms/step - accuracy: 0.7286 - loss: 0.5477 - val_accuracy: 0.8130 - val_loss: 0.4511\n",
            "Epoch 2/100\n",
            "\u001b[1m16/16\u001b[0m \u001b[32m━━━━━━━━━━━━━━━━━━━━\u001b[0m\u001b[37m\u001b[0m \u001b[1m0s\u001b[0m 7ms/step - accuracy: 0.7160 - loss: 0.5626 - val_accuracy: 0.8049 - val_loss: 0.4491\n",
            "Epoch 3/100\n",
            "\u001b[1m16/16\u001b[0m \u001b[32m━━━━━━━━━━━━━━━━━━━━\u001b[0m\u001b[37m\u001b[0m \u001b[1m0s\u001b[0m 8ms/step - accuracy: 0.6969 - loss: 0.5547 - val_accuracy: 0.8293 - val_loss: 0.4481\n",
            "Epoch 4/100\n",
            "\u001b[1m16/16\u001b[0m \u001b[32m━━━━━━━━━━━━━━━━━━━━\u001b[0m\u001b[37m\u001b[0m \u001b[1m0s\u001b[0m 9ms/step - accuracy: 0.7466 - loss: 0.5484 - val_accuracy: 0.8211 - val_loss: 0.4487\n",
            "Epoch 5/100\n",
            "\u001b[1m16/16\u001b[0m \u001b[32m━━━━━━━━━━━━━━━━━━━━\u001b[0m\u001b[37m\u001b[0m \u001b[1m0s\u001b[0m 8ms/step - accuracy: 0.7105 - loss: 0.5374 - val_accuracy: 0.8293 - val_loss: 0.4490\n",
            "Epoch 6/100\n",
            "\u001b[1m16/16\u001b[0m \u001b[32m━━━━━━━━━━━━━━━━━━━━\u001b[0m\u001b[37m\u001b[0m \u001b[1m0s\u001b[0m 7ms/step - accuracy: 0.7612 - loss: 0.4949 - val_accuracy: 0.8211 - val_loss: 0.4486\n",
            "Epoch 7/100\n",
            "\u001b[1m16/16\u001b[0m \u001b[32m━━━━━━━━━━━━━━━━━━━━\u001b[0m\u001b[37m\u001b[0m \u001b[1m0s\u001b[0m 7ms/step - accuracy: 0.7241 - loss: 0.5563 - val_accuracy: 0.8211 - val_loss: 0.4484\n",
            "Epoch 8/100\n",
            "\u001b[1m16/16\u001b[0m \u001b[32m━━━━━━━━━━━━━━━━━━━━\u001b[0m\u001b[37m\u001b[0m \u001b[1m0s\u001b[0m 7ms/step - accuracy: 0.7329 - loss: 0.5526 - val_accuracy: 0.8293 - val_loss: 0.4499\n",
            "Epoch 9/100\n",
            "\u001b[1m16/16\u001b[0m \u001b[32m━━━━━━━━━━━━━━━━━━━━\u001b[0m\u001b[37m\u001b[0m \u001b[1m0s\u001b[0m 7ms/step - accuracy: 0.7177 - loss: 0.5168 - val_accuracy: 0.8211 - val_loss: 0.4505\n",
            "Epoch 10/100\n",
            "\u001b[1m16/16\u001b[0m \u001b[32m━━━━━━━━━━━━━━━━━━━━\u001b[0m\u001b[37m\u001b[0m \u001b[1m0s\u001b[0m 8ms/step - accuracy: 0.7372 - loss: 0.5600 - val_accuracy: 0.8211 - val_loss: 0.4515\n",
            "Epoch 11/100\n",
            "\u001b[1m16/16\u001b[0m \u001b[32m━━━━━━━━━━━━━━━━━━━━\u001b[0m\u001b[37m\u001b[0m \u001b[1m0s\u001b[0m 7ms/step - accuracy: 0.7524 - loss: 0.5363 - val_accuracy: 0.8211 - val_loss: 0.4523\n",
            "Epoch 12/100\n",
            "\u001b[1m16/16\u001b[0m \u001b[32m━━━━━━━━━━━━━━━━━━━━\u001b[0m\u001b[37m\u001b[0m \u001b[1m0s\u001b[0m 7ms/step - accuracy: 0.7790 - loss: 0.5026 - val_accuracy: 0.8130 - val_loss: 0.4518\n",
            "Epoch 13/100\n",
            "\u001b[1m16/16\u001b[0m \u001b[32m━━━━━━━━━━━━━━━━━━━━\u001b[0m\u001b[37m\u001b[0m \u001b[1m0s\u001b[0m 7ms/step - accuracy: 0.7461 - loss: 0.5397 - val_accuracy: 0.8130 - val_loss: 0.4524\n"
          ]
        }
      ]
    },
    {
      "cell_type": "code",
      "source": [
        "#validating\n",
        "loss, acc = model.evaluate(x_test, y_test, verbose=0)\n",
        "print(f\"Test Accuracy: {acc:.4f}\")\n",
        "\n",
        "y_pred_prob = model.predict(x_test).ravel()\n",
        "y_pred = (y_pred_prob >= 0.5).astype(int)\n",
        "print(y_pred[:10])"
      ],
      "metadata": {
        "colab": {
          "base_uri": "https://localhost:8080/"
        },
        "id": "awzjDLi5758q",
        "outputId": "99b1d364-32fd-4307-f2f4-61f87e5b8254"
      },
      "execution_count": 30,
      "outputs": [
        {
          "output_type": "stream",
          "name": "stdout",
          "text": [
            "Test Accuracy: 0.7403\n",
            "\u001b[1m5/5\u001b[0m \u001b[32m━━━━━━━━━━━━━━━━━━━━\u001b[0m\u001b[37m\u001b[0m \u001b[1m0s\u001b[0m 6ms/step \n",
            "[1 0 0 0 0 0 0 1 0 1]\n"
          ]
        }
      ]
    }
  ]
}
